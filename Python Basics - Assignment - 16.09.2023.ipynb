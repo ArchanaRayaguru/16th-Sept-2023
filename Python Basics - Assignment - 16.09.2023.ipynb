{
 "cells": [
  {
   "cell_type": "code",
   "execution_count": 4,
   "id": "dfa96ed2",
   "metadata": {},
   "outputs": [
    {
     "name": "stdout",
     "output_type": "stream",
     "text": [
      "Hi James, How are you?\n"
     ]
    }
   ],
   "source": [
    "1.\n",
    "###Program to print a message###\n",
    "\n",
    "message = \"Hi James, How are you?\"\n",
    "print(message)"
   ]
  },
  {
   "cell_type": "code",
   "execution_count": 5,
   "id": "56fb6129",
   "metadata": {},
   "outputs": [
    {
     "name": "stdout",
     "output_type": "stream",
     "text": [
      "Hello World!\n",
      "Goodbye!\n"
     ]
    }
   ],
   "source": [
    "2.\n",
    "###Program to print a message###\n",
    "message = \"Hello World!\"\n",
    "print(message)\n",
    "\n",
    "message = \"Goodbye!\"\n",
    "print(message)"
   ]
  },
  {
   "cell_type": "code",
   "execution_count": 6,
   "id": "56b72f0f",
   "metadata": {},
   "outputs": [
    {
     "name": "stdout",
     "output_type": "stream",
     "text": [
      "Eric\n",
      "Hello Eric, would you like to learn some Python today\n"
     ]
    }
   ],
   "source": [
    "3.\n",
    "###Program to print a message to that person###\n",
    "Person = \"Eric\"\n",
    "print(Person)\n",
    "message = \"Hello Eric, would you like to learn some Python today\"\n",
    "print(message)"
   ]
  },
  {
   "cell_type": "code",
   "execution_count": 7,
   "id": "88e80f75",
   "metadata": {},
   "outputs": [
    {
     "name": "stdout",
     "output_type": "stream",
     "text": [
      "Albert Einstein once said A person who ever made a mistake never tried anything new\n"
     ]
    }
   ],
   "source": [
    "4.\n",
    "###Program to print a quote from a famous person###\n",
    "print('Albert Einstein once said A person who ever made a mistake never tried anything new')"
   ]
  },
  {
   "cell_type": "code",
   "execution_count": 8,
   "id": "cb37cbb7",
   "metadata": {},
   "outputs": [
    {
     "name": "stdout",
     "output_type": "stream",
     "text": [
      "Albert Einstein said , A person who ever made a mistake never tried anything new.\n"
     ]
    }
   ],
   "source": [
    "5.\n",
    "###Program to  store the famous person’s name and compose the message###\n",
    "famous_person=\"Albert Einstein\"\n",
    "message=\"A person who ever made a mistake never tried anything new.\"\n",
    "print(famous_person , 'said ,',message)"
   ]
  },
  {
   "cell_type": "code",
   "execution_count": 23,
   "id": "8888db7f",
   "metadata": {},
   "outputs": [
    {
     "name": "stdout",
     "output_type": "stream",
     "text": [
      "8\n",
      "8\n",
      "8\n",
      "8.0\n",
      "8\n"
     ]
    }
   ],
   "source": [
    "6.\n",
    "###Program to write addition operations that result in the number 8 ###\n",
    "5\n",
    "3\n",
    "print(5+3)\n",
    "\n",
    "###Program to write subtraction operations that result in the number 8 ###\n",
    "10\n",
    "2 \n",
    "print(10-2)\n",
    "\n",
    "###Program to write multiplication operations that result in the number 8 ###\n",
    "2\n",
    "4\n",
    "print(2*4)\n",
    "\n",
    "###Program to write division operations that result in the number 8 ###\n",
    "32\n",
    "4\n",
    "print(32/4)\n",
    "print(int(32/4))"
   ]
  },
  {
   "cell_type": "code",
   "execution_count": 24,
   "id": "810802cd",
   "metadata": {},
   "outputs": [
    {
     "name": "stdout",
     "output_type": "stream",
     "text": [
      "My favourite number is 8\n"
     ]
    }
   ],
   "source": [
    "7.\n",
    "###Program to Store your favourite number in a variable, using that variable, create a message for your favourite number ###\n",
    "a = 8  \n",
    "message = \"My favourite number is \" + str(a)\n",
    "print(message)"
   ]
  },
  {
   "cell_type": "code",
   "execution_count": 25,
   "id": "d8fd5df1",
   "metadata": {},
   "outputs": [
    {
     "name": "stdout",
     "output_type": "stream",
     "text": [
      "Random Number: 4\n"
     ]
    }
   ],
   "source": [
    "8.\n",
    "import random\n",
    "\n",
    "# Set the range for random number generation\n",
    "min_value = 1\n",
    "max_value = 10\n",
    "\n",
    "# Generate a random number\n",
    "random_number = random.randint(min_value, max_value)\n",
    "\n",
    "print(\"Random Number:\", random_number)"
   ]
  },
  {
   "cell_type": "code",
   "execution_count": 20,
   "id": "0199328b",
   "metadata": {},
   "outputs": [
    {
     "name": "stdout",
     "output_type": "stream",
     "text": [
      "Friend1\n",
      "Friend2\n",
      "Friend3\n",
      "Friend4\n"
     ]
    }
   ],
   "source": [
    "9.\n",
    "names = [\"Friend1\", \"Friend2\", \"Friend3\", \"Friend4\"]\n",
    "\n",
    "for name in names:\n",
    "    print(name)"
   ]
  },
  {
   "cell_type": "code",
   "execution_count": 26,
   "id": "cde2a043",
   "metadata": {},
   "outputs": [
    {
     "name": "stdout",
     "output_type": "stream",
     "text": [
      "Hello Friend1, I hope you're doing well!\n",
      "Hello Friend2, I hope you're doing well!\n",
      "Hello Friend3, I hope you're doing well!\n",
      "Hello Friend4, I hope you're doing well!\n"
     ]
    }
   ],
   "source": [
    "10.\n",
    "names = [\"Friend1\", \"Friend2\", \"Friend3\", \"Friend4\"]\n",
    "\n",
    "for name in names:\n",
    "    print(f\"Hello {name}, I hope you're doing well!\")"
   ]
  },
  {
   "cell_type": "code",
   "execution_count": 27,
   "id": "26ce7e5b",
   "metadata": {},
   "outputs": [
    {
     "name": "stdout",
     "output_type": "stream",
     "text": [
      "I would like to own a Honda motorcycle.\n",
      "I would like to own a Harley-Davidson motorcycle.\n",
      "I would like to own a Yamaha motorcycle.\n",
      "I would like to own a Ducati motorcycle.\n",
      "I would like to own a Kawasaki motorcycle.\n"
     ]
    }
   ],
   "source": [
    "11.\n",
    "# List of motorcycles\n",
    "motorcycles = [\"Honda\", \"Harley-Davidson\", \"Yamaha\", \"Ducati\", \"Kawasaki\"]\n",
    "\n",
    "# Generate statements\n",
    "for brand in motorcycles:\n",
    "    print(f\"I would like to own a {brand} motorcycle.\")\n"
   ]
  },
  {
   "cell_type": "code",
   "execution_count": null,
   "id": "71d678ff",
   "metadata": {},
   "outputs": [],
   "source": []
  }
 ],
 "metadata": {
  "kernelspec": {
   "display_name": "Python 3 (ipykernel)",
   "language": "python",
   "name": "python3"
  },
  "language_info": {
   "codemirror_mode": {
    "name": "ipython",
    "version": 3
   },
   "file_extension": ".py",
   "mimetype": "text/x-python",
   "name": "python",
   "nbconvert_exporter": "python",
   "pygments_lexer": "ipython3",
   "version": "3.11.5"
  }
 },
 "nbformat": 4,
 "nbformat_minor": 5
}
